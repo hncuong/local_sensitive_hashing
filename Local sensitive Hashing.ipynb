{
 "cells": [
  {
   "cell_type": "markdown",
   "metadata": {},
   "source": [
    "### Read docs"
   ]
  },
  {
   "cell_type": "code",
   "execution_count": 1,
   "metadata": {},
   "outputs": [],
   "source": [
    "import pandas as pd"
   ]
  },
  {
   "cell_type": "code",
   "execution_count": 2,
   "metadata": {},
   "outputs": [],
   "source": [
    "tcdf = pd.read_csv('TechCrunch.csv', encoding = \"ISO-8859-1\")\n",
    "# vbdf = pd.read_csv('VentureBeat.csv', encoding='utf-8', errors='ignore')"
   ]
  },
  {
   "cell_type": "code",
   "execution_count": 3,
   "metadata": {},
   "outputs": [
    {
     "data": {
      "text/html": [
       "<div>\n",
       "<style scoped>\n",
       "    .dataframe tbody tr th:only-of-type {\n",
       "        vertical-align: middle;\n",
       "    }\n",
       "\n",
       "    .dataframe tbody tr th {\n",
       "        vertical-align: top;\n",
       "    }\n",
       "\n",
       "    .dataframe thead th {\n",
       "        text-align: right;\n",
       "    }\n",
       "</style>\n",
       "<table border=\"1\" class=\"dataframe\">\n",
       "  <thead>\n",
       "    <tr style=\"text-align: right;\">\n",
       "      <th></th>\n",
       "      <th>title</th>\n",
       "      <th>url</th>\n",
       "      <th>date</th>\n",
       "    </tr>\n",
       "  </thead>\n",
       "  <tbody>\n",
       "    <tr>\n",
       "      <th>0</th>\n",
       "      <td>Gaming firm Razer seeks to raise over $600M in...</td>\n",
       "      <td>https://techcrunch.com/2017/07/01/razer-hong-k...</td>\n",
       "      <td>1-Jul-17</td>\n",
       "    </tr>\n",
       "    <tr>\n",
       "      <th>1</th>\n",
       "      <td>Mendel.ai nabs $2 million to match cancer pati...</td>\n",
       "      <td>https://techcrunch.com/2017/07/01/mendel-ai-na...</td>\n",
       "      <td>1-Jul-17</td>\n",
       "    </tr>\n",
       "    <tr>\n",
       "      <th>2</th>\n",
       "      <td>These cities in Californias East Bay are raki...</td>\n",
       "      <td>https://techcrunch.com/2017/07/01/these-east-b...</td>\n",
       "      <td>1-Jul-17</td>\n",
       "    </tr>\n",
       "    <tr>\n",
       "      <th>3</th>\n",
       "      <td>A walk around Station F with Emmanuel Macron</td>\n",
       "      <td>https://techcrunch.com/2017/07/01/a-walk-aroun...</td>\n",
       "      <td>1-Jul-17</td>\n",
       "    </tr>\n",
       "    <tr>\n",
       "      <th>4</th>\n",
       "      <td>Crunch Report | Facebook Helps You Find Wi-Fi</td>\n",
       "      <td>https://techcrunch.com/2017/06/30/crunch-repor...</td>\n",
       "      <td>30-Jun-17</td>\n",
       "    </tr>\n",
       "  </tbody>\n",
       "</table>\n",
       "</div>"
      ],
      "text/plain": [
       "                                               title  \\\n",
       "0  Gaming firm Razer seeks to raise over $600M in...   \n",
       "1  Mendel.ai nabs $2 million to match cancer pati...   \n",
       "2  These cities in Californias East Bay are raki...   \n",
       "3       A walk around Station F with Emmanuel Macron   \n",
       "4      Crunch Report | Facebook Helps You Find Wi-Fi   \n",
       "\n",
       "                                                 url       date  \n",
       "0  https://techcrunch.com/2017/07/01/razer-hong-k...   1-Jul-17  \n",
       "1  https://techcrunch.com/2017/07/01/mendel-ai-na...   1-Jul-17  \n",
       "2  https://techcrunch.com/2017/07/01/these-east-b...   1-Jul-17  \n",
       "3  https://techcrunch.com/2017/07/01/a-walk-aroun...   1-Jul-17  \n",
       "4  https://techcrunch.com/2017/06/30/crunch-repor...  30-Jun-17  "
      ]
     },
     "execution_count": 3,
     "metadata": {},
     "output_type": "execute_result"
    }
   ],
   "source": [
    "tcdf.head()"
   ]
  },
  {
   "cell_type": "code",
   "execution_count": 4,
   "metadata": {},
   "outputs": [],
   "source": [
    "def chunk_sentence(sent):\n",
    "    sent = sent.split()\n",
    "    sent0 = sent[:len(sent) // 2]\n",
    "    sent1 = sent[len(sent) // 2:]\n",
    "    ret = sent1 + sent0\n",
    "    return ' '.join(ret)"
   ]
  },
  {
   "cell_type": "code",
   "execution_count": 5,
   "metadata": {},
   "outputs": [
    {
     "data": {
      "text/plain": [
       "24788"
      ]
     },
     "execution_count": 5,
     "metadata": {},
     "output_type": "execute_result"
    }
   ],
   "source": [
    "import random\n",
    "titles = tcdf.title.values.tolist()\n",
    "titles_sf = [chunk_sentence(sent) for sent in titles]\n",
    "titles += titles_sf\n",
    "random.shuffle(titles)\n",
    "len(titles)"
   ]
  },
  {
   "cell_type": "code",
   "execution_count": 6,
   "metadata": {},
   "outputs": [],
   "source": [
    "import pickle"
   ]
  },
  {
   "cell_type": "code",
   "execution_count": 7,
   "metadata": {},
   "outputs": [],
   "source": [
    "with open('titles.pkl', 'wb') as fout:\n",
    "    pickle.dump(titles, fout)"
   ]
  },
  {
   "cell_type": "markdown",
   "metadata": {},
   "source": [
    "### SHingling "
   ]
  },
  {
   "cell_type": "code",
   "execution_count": 8,
   "metadata": {},
   "outputs": [],
   "source": [
    "from tqdm import tqdm"
   ]
  },
  {
   "cell_type": "code",
   "execution_count": 9,
   "metadata": {},
   "outputs": [
    {
     "name": "stderr",
     "output_type": "stream",
     "text": [
      "100%|██████████| 24788/24788 [00:03<00:00, 6275.20it/s]\n"
     ]
    }
   ],
   "source": [
    "from shingling import Shingles\n",
    "shingler = Shingles(k=10)\n",
    "docs = [shingler.shingling(title) for title in tqdm(titles)]"
   ]
  },
  {
   "cell_type": "code",
   "execution_count": 10,
   "metadata": {},
   "outputs": [
    {
     "data": {
      "text/plain": [
       "24788"
      ]
     },
     "execution_count": 10,
     "metadata": {},
     "output_type": "execute_result"
    }
   ],
   "source": [
    "len(docs)"
   ]
  },
  {
   "cell_type": "markdown",
   "metadata": {},
   "source": [
    "### Min hash "
   ]
  },
  {
   "cell_type": "code",
   "execution_count": 11,
   "metadata": {},
   "outputs": [
    {
     "name": "stdout",
     "output_type": "stream",
     "text": [
      "Remap token to index from 0 -> len(token)\n",
      "Number of shingles = 660871\n"
     ]
    }
   ],
   "source": [
    "from corpus import Corpus\n",
    "cp = Corpus(docs)"
   ]
  },
  {
   "cell_type": "code",
   "execution_count": 12,
   "metadata": {},
   "outputs": [
    {
     "name": "stdout",
     "output_type": "stream",
     "text": [
      "Generate 200 random bucker hashers\n"
     ]
    }
   ],
   "source": [
    "from min_hashing import MinHasher\n",
    "mhasher = MinHasher(cp, k=200)"
   ]
  },
  {
   "cell_type": "code",
   "execution_count": 13,
   "metadata": {},
   "outputs": [
    {
     "name": "stdout",
     "output_type": "stream",
     "text": [
      "2019-07-05 18:21:04.649476  - Processing shingle id 0.\n",
      "2019-07-05 18:21:32.517449  - Processing shingle id 100000.\n",
      "2019-07-05 18:21:55.309940  - Processing shingle id 200000.\n",
      "2019-07-05 18:22:17.096038  - Processing shingle id 300000.\n",
      "2019-07-05 18:22:38.191594  - Processing shingle id 400000.\n",
      "2019-07-05 18:22:58.900027  - Processing shingle id 500000.\n",
      "2019-07-05 18:23:19.365758  - Processing shingle id 600000.\n"
     ]
    },
    {
     "data": {
      "text/plain": [
       "(24788, 200)"
      ]
     },
     "execution_count": 13,
     "metadata": {},
     "output_type": "execute_result"
    }
   ],
   "source": [
    "signatures = mhasher.pseudo_perm_hasher()\n",
    "len(signatures), len(signatures[0])"
   ]
  },
  {
   "cell_type": "markdown",
   "metadata": {},
   "source": [
    "### Lsh"
   ]
  },
  {
   "cell_type": "code",
   "execution_count": 14,
   "metadata": {},
   "outputs": [],
   "source": [
    "from local_sensitive_hashing import LocalSensitiveHashing"
   ]
  },
  {
   "cell_type": "code",
   "execution_count": 15,
   "metadata": {},
   "outputs": [],
   "source": [
    "lsh = LocalSensitiveHashing(signatures, row_p_band=2)"
   ]
  },
  {
   "cell_type": "code",
   "execution_count": 16,
   "metadata": {},
   "outputs": [],
   "source": [
    "doc_to_docs = lsh.hashing()"
   ]
  },
  {
   "cell_type": "code",
   "execution_count": 17,
   "metadata": {},
   "outputs": [
    {
     "data": {
      "text/plain": [
       "24592"
      ]
     },
     "execution_count": 17,
     "metadata": {},
     "output_type": "execute_result"
    }
   ],
   "source": [
    "len(doc_to_docs)"
   ]
  },
  {
   "cell_type": "code",
   "execution_count": 18,
   "metadata": {},
   "outputs": [],
   "source": [
    "keys = list(doc_to_docs.keys())"
   ]
  },
  {
   "cell_type": "code",
   "execution_count": 19,
   "metadata": {},
   "outputs": [
    {
     "data": {
      "text/plain": [
       "[5, 255, 148, 370, 76, 414, 887, 915, 804, 1112]"
      ]
     },
     "execution_count": 19,
     "metadata": {},
     "output_type": "execute_result"
    }
   ],
   "source": [
    "keys[:10]"
   ]
  },
  {
   "cell_type": "code",
   "execution_count": 20,
   "metadata": {},
   "outputs": [
    {
     "name": "stdout",
     "output_type": "stream",
     "text": [
      "Doc id 5\n",
      "\t a fight for prettier (e)books Brand new Vellum picks\n",
      "SImilar docs\n",
      "\t Brand new Vellum picks a fight for prettier (e)books\n",
      "\t from The Last Jedi director Rian Johnson Brand new Star Wars trilogy coming\n",
      "\t You can now pre-order a brand new, working Street Fighter II SNES cartridge\n",
      "\t Watch BlackBerry unveil a brand new phone live right here\n",
      "\n",
      "Doc id 255\n",
      "\t Brand new Vellum picks a fight for prettier (e)books\n",
      "SImilar docs\n",
      "\t a fight for prettier (e)books Brand new Vellum picks\n",
      "\n",
      "Doc id 148\n",
      "\t security startup Observable Networks Cisco acquires network\n",
      "SImilar docs\n",
      "\t Security startup CryptoMove fragments data and moves it around to keep it secure\n",
      "\t CEO Talks Cisco Acquisition Crunch Report | AppDynamics\n",
      "\t Cloud security startup ProtectWise raises another $25 million\n",
      "\t security startup harvest.ai for around $20M Sources: Amazon quietly acquired AI\n",
      "\t Sources: Amazon quietly acquired AI security startup harvest.ai for around $20M\n",
      "\t McAfee acquires cloud security startup Skyhigh Networks, last valued at $400M\n",
      "\t startup behind the Robin smartphone Razer acquires Nextbit, the\n",
      "\t Cisco acquires network security startup Observable Networks\n",
      "\t Skyhigh Networks, last valued at $400M McAfee acquires cloud security startup\n",
      "\t raises another $25 million Cloud security startup ProtectWise\n",
      "\t moves it around to keep it secure Security startup CryptoMove fragments data and\n",
      "\n",
      "Doc id 370\n",
      "\t Cisco acquires network security startup Observable Networks\n",
      "SImilar docs\n",
      "\t practical SHA-1 collision attack Security researchers announce first\n",
      "\t and introduces a new network security service Smart WiFi startup Eero updates its hardware\n",
      "\t Security startup CryptoMove fragments data and moves it around to keep it secure\n",
      "\t Smart WiFi startup Eero updates its hardware and introduces a new network security service\n",
      "\t Cloud security startup ProtectWise raises another $25 million\n",
      "\t security startup harvest.ai for around $20M Sources: Amazon quietly acquired AI\n",
      "\t Facebook security chief rants about misguided algorithm backlash\n",
      "\t Sources: Amazon quietly acquired AI security startup harvest.ai for around $20M\n",
      "\t McAfee acquires cloud security startup Skyhigh Networks, last valued at $400M\n",
      "\t startup behind the Robin smartphone Razer acquires Nextbit, the\n",
      "\t security startup Observable Networks Cisco acquires network\n",
      "\t Skyhigh Networks, last valued at $400M McAfee acquires cloud security startup\n",
      "\t about misguided algorithm backlash Facebook security chief rants\n",
      "\t raises another $25 million Cloud security startup ProtectWise\n",
      "\t moves it around to keep it secure Security startup CryptoMove fragments data and\n",
      "\t Security startup Synack scores $21M investment from Microsoft, HPE and Singtel\n",
      "\n",
      "Doc id 76\n",
      "\t Uber responds to the New York Times article about how it psychologically manipulates drivers\n",
      "SImilar docs\n",
      "\t The New York Times offers free Spotify to new subscribers\n",
      "\t New York Times board New Uber CEO departs\n",
      "\t free Spotify to new subscribers The New York Times offers\n",
      "\t The New York Times and The National teamed up for a VR film with 100% more angst\n",
      "\t Twitter blames human error after blocking a New York Times account over the weekend\n",
      "\t New York Times account over the weekend Twitter blames human error after blocking a\n",
      "\t up for a VR film with 100% more angst The New York Times and The National teamed\n",
      "\t Mark Thompson, CEO and president of The New York Times Company, to talk shop at Disrupt\n",
      "\t Dueling AIs compete in learning to walk, secretly manipulating images and more at NIPS\n",
      "\t New Uber CEO departs New York Times board\n",
      "\t article about how it psychologically manipulates drivers Uber responds to the New York Times\n",
      "\n",
      "Doc id 414\n",
      "\t article about how it psychologically manipulates drivers Uber responds to the New York Times\n",
      "SImilar docs\n",
      "\t The New York Times offers free Spotify to new subscribers\n",
      "\t New York Times board New Uber CEO departs\n",
      "\t free Spotify to new subscribers The New York Times offers\n",
      "\t Uber responds to the New York Times article about how it psychologically manipulates drivers\n",
      "\t The New York Times and The National teamed up for a VR film with 100% more angst\n",
      "\t Twitter blames human error after blocking a New York Times account over the weekend\n",
      "\t New York Times account over the weekend Twitter blames human error after blocking a\n",
      "\t up for a VR film with 100% more angst The New York Times and The National teamed\n",
      "\t Mark Thompson, CEO and president of The New York Times Company, to talk shop at Disrupt\n",
      "\t Dueling AIs compete in learning to walk, secretly manipulating images and more at NIPS\n",
      "\t New Uber CEO departs New York Times board\n",
      "\n",
      "Doc id 887\n",
      "\t Microsofts rebranded Azure Container Service shifts its focus to Kubernetes\n",
      "SImilar docs\n",
      "\t make using containers fast and easy Microsofts new Azure Container Instances\n",
      "\t CoreOS Tectonic 1.8 makes it easy to plug external services into Kubernetes\n",
      "\t Pivotal-VMware-Google forge container partnership\n",
      "\t shifts its focus to Kubernetes Microsofts rebranded Azure Container Service\n",
      "\t Kubernetes on Microsofts Azure Container Service is now generally available\n",
      "\t AWSs container service gets support for Kubernetes\n",
      "\t Service is now generally available Kubernetes on Microsofts Azure Container\n",
      "\t it shifts its focus Layoffs hit Mozilla as\n",
      "\n",
      "Doc id 915\n",
      "\t shifts its focus to Kubernetes Microsofts rebranded Azure Container Service\n",
      "SImilar docs\n",
      "\t make using containers fast and easy Microsofts new Azure Container Instances\n",
      "\t Microsofts rebranded Azure Container Service shifts its focus to Kubernetes\n",
      "\t gets support for Kubernetes AWSs container service\n",
      "\t Kubernetes on Microsofts Azure Container Service is now generally available\n",
      "\t Service is now generally available Kubernetes on Microsofts Azure Container\n",
      "\t it shifts its focus Layoffs hit Mozilla as\n",
      "\n",
      "Doc id 804\n",
      "\t the D.C. and Miami meetups Announcing the startups pitching at\n",
      "SImilar docs\n",
      "\t These are the 10 companies pitching at TechCrunchs Seattle meetup\n",
      "\t Studio to foster machine intelligence startups Google launches its own AI\n",
      "\t tickets to the Miami Meetup + Pitch-off! This is your last chance to buy\n",
      "\t Outreach raises $30 million pitching a tool sales teams can use to sell more and work less\n",
      "\t Hillbilly Elegy author J.D. Vance joins Revolution LLC to promote startups outside of Silicon Valley\n",
      "\t eBay takes on fashion resale startups with new authentication program\n",
      "\t How innovative startups can flourish in a changing cleantech landscape\n",
      "\t the Founder Spotlight at TC Disrupt NY Meet four of the startups in\n",
      "\t invest in Greek software startups VentureFriends closes 20M fund to\n",
      "\t LLC to promote startups outside of Silicon Valley Hillbilly Elegy author J.D. Vance joins Revolution\n",
      "\t Startup Alley pavilions at Disrupt Berlin Announcing the startups featured in\n",
      "\t teams can use to sell more and work less Outreach raises $30 million pitching a tool sales\n",
      "\t Social Capital to take startups public without an IPO\n",
      "\t inspired the thing Amazon just launched Hey Walmart, heres the startup that\n",
      "\t SparkLabs launches $50M fund for promising early-stage startups in Korea\n",
      "\t Bestow joins the ranks of startups pitching life insurance, because were all going to die\n",
      "\t Hardware Battlefield 2017 at CES Meet the startups participating in\n",
      "\t Hey Walmart, heres the startup that inspired the thing Amazon just launched\n",
      "\t After the end of the startup era\n",
      "\t Barry, Dave, Bob? More startups humanize their offerings\n",
      "\t Announcing the startups pitching at the D.C. and Miami meetups\n",
      "\t first media accelerator and plans hiring spree The Information reveals the startups in its\n",
      "\t Investors: Here are the Startup Alley companies at Disrupt NY\n",
      "\t at EFs 8th Demo Day in London Meet the startups that just pitched\n",
      "\t the Disrupt NY featured pavilions Here are the startups in\n",
      "\t Fund for Disrupt NY 2017 Announcing the Startup Battlefield Scholarship\n",
      "\t Here are the startups pitching at the MWC TechCrunch Meetup next week\n",
      "\t Meet four of the startups in the Founder Spotlight at TC Disrupt NY\n",
      "\t Alley companies at Disrupt NY Investors: Here are the Startup\n",
      "\t are the startups wholl pitch! TechCrunch London Pitch-Off: Here\n",
      "\t promising early-stage startups in Korea SparkLabs launches $50M fund for\n",
      "\t in a changing cleantech landscape How innovative startups can flourish\n",
      "\t school and learns a thing or two Y Combinator takes machine intelligence startups to\n",
      "\t TechCrunch London Pitch-Off: Here are the startups wholl pitch!\n",
      "\t Meet the startups that just pitched at EFs 7th Demo Day in London (and our top picks)\n",
      "\t Top Ten Automotive Startups competition open for submissions\n",
      "\t at the D.C. and Miami Pitch-offs! You could be the WILDCARD\n",
      "\t Why the end of the startup era could be great for entrepreneurs\n",
      "\t open for real estate startups VC doors are wide\n",
      "\t Y Combinator takes machine intelligence startups to school and learns a thing or two\n",
      "\t Announcing the startups featured in Startup Alley pavilions at Disrupt Berlin\n",
      "\t of the startup era After the end\n",
      "\t Demystify hardware startups at Disrupt Berlin 2017\n",
      "\t the D.C. and Miami Pitch-offs Announcing the judges for\n",
      "\t 7th Demo Day in London (and our top picks) Meet the startups that just pitched at EFs\n",
      "\t This is your last chance to buy tickets to the Miami Meetup + Pitch-off!\n",
      "\t and eight other Chinese startups Qualcomm announces investment in Mobike\n",
      "\t Announcing the judges for the D.C. and Miami Pitch-offs\n",
      "\t consolidation of Indias top real estate startups PropTiger buys up troubled rival Housing.com in\n",
      "\t Announcing the Startup Battlefield Scholarship Fund for Disrupt NY 2017\n",
      "\t Meet the startups participating in Hardware Battlefield 2017 at CES\n",
      "\t fund targeting artificial intelligence startups Toyota launches venture capital\n",
      "\t the MWC TechCrunch Meetup next week Here are the startups pitching at\n",
      "\t Meet the startups that just pitched at EFs 8th Demo Day in London\n",
      "\t will acquire more startups Walmart says it\n",
      "\t 12 KPIs you must know before pitching your startup\n",
      "\t The Information reveals the startups in its first media accelerator and plans hiring spree\n",
      "\t Here are the startups in the Disrupt NY featured pavilions\n",
      "\n",
      "Doc id 1112\n",
      "\t Announcing the startups featured in Startup Alley pavilions at Disrupt Berlin\n",
      "SImilar docs\n",
      "\t Seattle Meetup + Pitch Off Announcing the Judges for the\n",
      "\t Studio to foster machine intelligence startups Google launches its own AI\n",
      "\t Announcing the TechCrunch Disrupt SF 2017 agenda\n",
      "\t Hillbilly Elegy author J.D. Vance joins Revolution LLC to promote startups outside of Silicon Valley\n",
      "\t Disrupt Berlin 2017 Agenda Announcing the TechCrunch\n",
      "\t eBay takes on fashion resale startups with new authentication program\n",
      "\t Why exhibit in Startup Alley at Disrupt SF?\n",
      "\t Announcing TechCrunch Disrupt NY Startup Battlefield 2017\n",
      "\t How innovative startups can flourish in a changing cleantech landscape\n",
      "\t mini-drone DJI is announcing this week Heres the teaser for the\n",
      "\t the Founder Spotlight at TC Disrupt NY Meet four of the startups in\n",
      "\t invest in Greek software startups VentureFriends closes 20M fund to\n",
      "\t LLC to promote startups outside of Silicon Valley Hillbilly Elegy author J.D. Vance joins Revolution\n",
      "\t Startup Alley pavilions at Disrupt Berlin Announcing the startups featured in\n",
      "\t Only one week left to apply for Startup Battlefield at Disrupt Berlin\n",
      "\t Social Capital to take startups public without an IPO\n",
      "\t Disrupt SF 2017 agenda Announcing the TechCrunch\n",
      "\t Announcing the judges for Disrupt NY Startup Battlefield Competition\n",
      "\t SparkLabs launches $50M fund for promising early-stage startups in Korea\n",
      "\t the D.C. and Miami meetups Announcing the startups pitching at\n",
      "\t Hardware Battlefield 2017 at CES Meet the startups participating in\n",
      "\t Disrupt NY Startup Battlefield Competition Announcing the judges for\n",
      "\t Barry, Dave, Bob? More startups humanize their offerings\n",
      "\t Announcing the startups pitching at the D.C. and Miami meetups\n",
      "\t first media accelerator and plans hiring spree The Information reveals the startups in its\n",
      "\t Investors: Here are the Startup Alley companies at Disrupt NY\n",
      "\t at EFs 8th Demo Day in London Meet the startups that just pitched\n",
      "\t Why now is the time to join Startup Alley at Disrupt Berlin\n",
      "\t Fund for Disrupt NY 2017 Announcing the Startup Battlefield Scholarship\n",
      "\t Announcing the TechCrunch Tel Aviv Meetup + Pitch-off agenda\n",
      "\t the Disrupt NY featured pavilions Here are the startups in\n",
      "\t Meet four of the startups in the Founder Spotlight at TC Disrupt NY\n",
      "\t are the startups wholl pitch! TechCrunch London Pitch-Off: Here\n",
      "\t Here are the startups pitching at the MWC TechCrunch Meetup next week\n",
      "\t Announcing the new TechCrunch Podcast\n",
      "\t Announcing the TechCrunch Meetup in Singapore on November 23\n",
      "\t in a changing cleantech landscape How innovative startups can flourish\n",
      "\t school and learns a thing or two Y Combinator takes machine intelligence startups to\n",
      "\t promising early-stage startups in Korea SparkLabs launches $50M fund for\n",
      "\t TechCrunch London Pitch-Off: Here are the startups wholl pitch!\n",
      "\t Apply to exhibit  for free  in Startup Alley at Disrupt Berlin\n",
      "\t Calling all international startups: sign up for a country pavilion at Disrupt Berlin\n",
      "\t Meet the startups that just pitched at EFs 7th Demo Day in London (and our top picks)\n",
      "\t Slack co-founder Cal Henderson to talk on Slacks progress at Disrupt Berlin\n",
      "\t Announcing the Judges for the Seattle Meetup + Pitch Off\n",
      "\t Top Ten Automotive Startups competition open for submissions\n",
      "\t Sign up for a free exhibitor table in Startup Alley at Disrupt Berlin\n",
      "\t TechCrunch Meetup + Pitch-off! Announcing the London\n",
      "\t of events focused on a single topic Announcing TechCrunch Sessions, a new series\n",
      "\t Heres the teaser for the mini-drone DJI is announcing this week\n",
      "\t open for real estate startups VC doors are wide\n",
      "\t CrunchMatch takes the guesswork out of founder-investor networking at Disrupt Berlin\n",
      "\t Y Combinator takes machine intelligence startups to school and learns a thing or two\n",
      "\t Demystify hardware startups at Disrupt Berlin 2017\n",
      "\t Hear about the future of space propulsion at Disrupt Berlin\n",
      "\t 7th Demo Day in London (and our top picks) Meet the startups that just pitched at EFs\n",
      "\t and eight other Chinese startups Qualcomm announces investment in Mobike\n",
      "\t consolidation of Indias top real estate startups PropTiger buys up troubled rival Housing.com in\n",
      "\t Announcing the Startup Battlefield Scholarship Fund for Disrupt NY 2017\n",
      "\t Announcing the agenda for TechCrunchs Startup Battlefield Africa!\n",
      "\t new TechCrunch Podcast Announcing the\n",
      "\t Announcing the TechCrunch Disrupt Berlin 2017 Agenda\n",
      "\t Announcing the agenda for TechCrunch Sessions: Robotics\n",
      "\t TechCrunchs Startup Battlefield Africa! Announcing the agenda for\n",
      "\t Meet the startups participating in Hardware Battlefield 2017 at CES\n",
      "\t fund targeting artificial intelligence startups Toyota launches venture capital\n",
      "\t the MWC TechCrunch Meetup next week Here are the startups pitching at\n",
      "\t Meet the startups that just pitched at EFs 8th Demo Day in London\n",
      "\t will acquire more startups Walmart says it\n",
      "\t The Information reveals the startups in its first media accelerator and plans hiring spree\n",
      "\t Here are the startups in the Disrupt NY featured pavilions\n",
      "\n"
     ]
    }
   ],
   "source": [
    "for docid in keys[:10]:\n",
    "    print(\"Doc id\", docid)\n",
    "    print(\"\\t\", titles[docid])\n",
    "    print(\"SImilar docs\")\n",
    "    for adj in doc_to_docs[docid]:\n",
    "        print(\"\\t\", titles[adj])\n",
    "    print()"
   ]
  },
  {
   "cell_type": "code",
   "execution_count": null,
   "metadata": {},
   "outputs": [],
   "source": []
  }
 ],
 "metadata": {
  "kernelspec": {
   "display_name": "Python 3",
   "language": "python",
   "name": "python3"
  },
  "language_info": {
   "codemirror_mode": {
    "name": "ipython",
    "version": 3
   },
   "file_extension": ".py",
   "mimetype": "text/x-python",
   "name": "python",
   "nbconvert_exporter": "python",
   "pygments_lexer": "ipython3",
   "version": "3.6.5"
  }
 },
 "nbformat": 4,
 "nbformat_minor": 2
}
